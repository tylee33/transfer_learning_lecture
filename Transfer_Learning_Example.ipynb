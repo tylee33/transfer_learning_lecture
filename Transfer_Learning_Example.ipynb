{
  "nbformat": 4,
  "nbformat_minor": 0,
  "metadata": {
    "colab": {
      "name": "Transfer_Learning_Example.ipynb",
      "provenance": [],
      "toc_visible": true,
      "authorship_tag": "ABX9TyM4gOcvxqKvBAND1Xrbunwv",
      "include_colab_link": true
    },
    "kernelspec": {
      "name": "python3",
      "display_name": "Python 3"
    }
  },
  "cells": [
    {
      "cell_type": "markdown",
      "metadata": {
        "id": "view-in-github",
        "colab_type": "text"
      },
      "source": [
        "<a href=\"https://colab.research.google.com/github/tylee33/transfer_learning_lecture/blob/main/Transfer_Learning_Example.ipynb\" target=\"_parent\"><img src=\"https://colab.research.google.com/assets/colab-badge.svg\" alt=\"Open In Colab\"/></a>"
      ]
    },
    {
      "cell_type": "markdown",
      "metadata": {
        "id": "JLHkhppIPzuF"
      },
      "source": [
        "# **학습된 모델 재사용하기**"
      ]
    },
    {
      "cell_type": "code",
      "metadata": {
        "id": "egU1GsJGR_GA",
        "outputId": "f4cd93c3-c8f6-4be8-e562-a699b03aa802",
        "colab": {
          "base_uri": "https://localhost:8080/",
          "height": 812
        }
      },
      "source": [
        "! pip install tensorflow==1.4"
      ],
      "execution_count": null,
      "outputs": [
        {
          "output_type": "stream",
          "text": [
            "Collecting tensorflow==1.4\n",
            "\u001b[?25l  Downloading https://files.pythonhosted.org/packages/86/9f/be0165c6eefd841e6928e54d3d083fa174f92d640fdc52f73a33dc9c54d1/tensorflow-1.4.0-cp36-cp36m-manylinux1_x86_64.whl (41.2MB)\n",
            "\u001b[K     |████████████████████████████████| 41.2MB 115kB/s \n",
            "\u001b[?25hRequirement already satisfied: numpy>=1.12.1 in /usr/local/lib/python3.6/dist-packages (from tensorflow==1.4) (1.18.5)\n",
            "Collecting enum34>=1.1.6\n",
            "  Downloading https://files.pythonhosted.org/packages/63/f6/ccb1c83687756aeabbf3ca0f213508fcfb03883ff200d201b3a4c60cedcc/enum34-1.1.10-py3-none-any.whl\n",
            "Requirement already satisfied: six>=1.10.0 in /usr/local/lib/python3.6/dist-packages (from tensorflow==1.4) (1.15.0)\n",
            "Requirement already satisfied: wheel>=0.26 in /usr/local/lib/python3.6/dist-packages (from tensorflow==1.4) (0.35.1)\n",
            "Requirement already satisfied: protobuf>=3.3.0 in /usr/local/lib/python3.6/dist-packages (from tensorflow==1.4) (3.12.4)\n",
            "Collecting tensorflow-tensorboard<0.5.0,>=0.4.0rc1\n",
            "\u001b[?25l  Downloading https://files.pythonhosted.org/packages/e9/9f/5845c18f9df5e7ea638ecf3a272238f0e7671e454faa396b5188c6e6fc0a/tensorflow_tensorboard-0.4.0-py3-none-any.whl (1.7MB)\n",
            "\u001b[K     |████████████████████████████████| 1.7MB 41.2MB/s \n",
            "\u001b[?25hRequirement already satisfied: setuptools in /usr/local/lib/python3.6/dist-packages (from protobuf>=3.3.0->tensorflow==1.4) (50.3.0)\n",
            "Collecting html5lib==0.9999999\n",
            "\u001b[?25l  Downloading https://files.pythonhosted.org/packages/ae/ae/bcb60402c60932b32dfaf19bb53870b29eda2cd17551ba5639219fb5ebf9/html5lib-0.9999999.tar.gz (889kB)\n",
            "\u001b[K     |████████████████████████████████| 890kB 37.5MB/s \n",
            "\u001b[?25hCollecting bleach==1.5.0\n",
            "  Downloading https://files.pythonhosted.org/packages/33/70/86c5fec937ea4964184d4d6c4f0b9551564f821e1c3575907639036d9b90/bleach-1.5.0-py2.py3-none-any.whl\n",
            "Requirement already satisfied: markdown>=2.6.8 in /usr/local/lib/python3.6/dist-packages (from tensorflow-tensorboard<0.5.0,>=0.4.0rc1->tensorflow==1.4) (3.2.2)\n",
            "Requirement already satisfied: werkzeug>=0.11.10 in /usr/local/lib/python3.6/dist-packages (from tensorflow-tensorboard<0.5.0,>=0.4.0rc1->tensorflow==1.4) (1.0.1)\n",
            "Requirement already satisfied: importlib-metadata; python_version < \"3.8\" in /usr/local/lib/python3.6/dist-packages (from markdown>=2.6.8->tensorflow-tensorboard<0.5.0,>=0.4.0rc1->tensorflow==1.4) (2.0.0)\n",
            "Requirement already satisfied: zipp>=0.5 in /usr/local/lib/python3.6/dist-packages (from importlib-metadata; python_version < \"3.8\"->markdown>=2.6.8->tensorflow-tensorboard<0.5.0,>=0.4.0rc1->tensorflow==1.4) (3.2.0)\n",
            "Building wheels for collected packages: html5lib\n",
            "  Building wheel for html5lib (setup.py) ... \u001b[?25l\u001b[?25hdone\n",
            "  Created wheel for html5lib: filename=html5lib-0.9999999-cp36-none-any.whl size=107220 sha256=f3bcaf4d83104ab8874d249f6d75e9ea38ecdfe0efe4a0529d8f790c16a59d71\n",
            "  Stored in directory: /root/.cache/pip/wheels/50/ae/f9/d2b189788efcf61d1ee0e36045476735c838898eef1cad6e29\n",
            "Successfully built html5lib\n",
            "Installing collected packages: enum34, html5lib, bleach, tensorflow-tensorboard, tensorflow\n",
            "  Found existing installation: html5lib 1.0.1\n",
            "    Uninstalling html5lib-1.0.1:\n",
            "      Successfully uninstalled html5lib-1.0.1\n",
            "  Found existing installation: bleach 3.2.1\n",
            "    Uninstalling bleach-3.2.1:\n",
            "      Successfully uninstalled bleach-3.2.1\n",
            "  Found existing installation: tensorflow 2.3.0\n",
            "    Uninstalling tensorflow-2.3.0:\n",
            "      Successfully uninstalled tensorflow-2.3.0\n",
            "Successfully installed bleach-1.5.0 enum34-1.1.10 html5lib-0.9999999 tensorflow-1.4.0 tensorflow-tensorboard-0.4.0\n"
          ],
          "name": "stdout"
        },
        {
          "output_type": "display_data",
          "data": {
            "application/vnd.colab-display-data+json": {
              "pip_warning": {
                "packages": [
                  "enum",
                  "tensorboard",
                  "tensorflow"
                ]
              }
            }
          },
          "metadata": {
            "tags": []
          }
        }
      ]
    },
    {
      "cell_type": "markdown",
      "metadata": {
        "id": "Gol1wmx8V2VM"
      },
      "source": [
        "# **1.환경 구성**"
      ]
    },
    {
      "cell_type": "code",
      "metadata": {
        "id": "JkEfEWoPP-Gt",
        "outputId": "2b59e4b1-e796-455a-cef4-176815d42835",
        "colab": {
          "base_uri": "https://localhost:8080/",
          "height": 289
        }
      },
      "source": [
        "import os\n",
        "import numpy as np\n",
        "import tensorflow as tf\n",
        "\n",
        "# 일관된 출력을 위해 유사난수 초기화\n",
        "def reset_graph(seed=42):\n",
        "    tf.reset_default_graph() # tensorflow 1.4 호환\n",
        "    tf.set_random_seed(seed)\n",
        "    np.random.seed(seed)\n",
        "\n",
        "%matplotlib inline\n",
        "import matplotlib\n",
        "import matplotlib.pyplot as plt\n",
        "import seaborn as sn\n",
        "sn.set()\n",
        "plt.rcParams['axes.labelsize'] = 14\n",
        "plt.rcParams['xtick.labelsize'] = 12\n",
        "plt.rcParams['ytick.labelsize'] = 12\n",
        "\n",
        "# 한글출력\n",
        "# matplotlib.rc('font', family='AppleGothic')  # MacOS\n",
        "matplotlib.rc('font', family='Malgun Gothic')  # Windows\n",
        "plt.rcParams['axes.unicode_minus'] = False"
      ],
      "execution_count": null,
      "outputs": [
        {
          "output_type": "stream",
          "text": [
            "/usr/local/lib/python3.6/dist-packages/tensorflow/python/framework/dtypes.py:469: FutureWarning: Passing (type, 1) or '1type' as a synonym of type is deprecated; in a future version of numpy, it will be understood as (type, (1,)) / '(1,)type'.\n",
            "  _np_qint8 = np.dtype([(\"qint8\", np.int8, 1)])\n",
            "/usr/local/lib/python3.6/dist-packages/tensorflow/python/framework/dtypes.py:470: FutureWarning: Passing (type, 1) or '1type' as a synonym of type is deprecated; in a future version of numpy, it will be understood as (type, (1,)) / '(1,)type'.\n",
            "  _np_quint8 = np.dtype([(\"quint8\", np.uint8, 1)])\n",
            "/usr/local/lib/python3.6/dist-packages/tensorflow/python/framework/dtypes.py:471: FutureWarning: Passing (type, 1) or '1type' as a synonym of type is deprecated; in a future version of numpy, it will be understood as (type, (1,)) / '(1,)type'.\n",
            "  _np_qint16 = np.dtype([(\"qint16\", np.int16, 1)])\n",
            "/usr/local/lib/python3.6/dist-packages/tensorflow/python/framework/dtypes.py:472: FutureWarning: Passing (type, 1) or '1type' as a synonym of type is deprecated; in a future version of numpy, it will be understood as (type, (1,)) / '(1,)type'.\n",
            "  _np_quint16 = np.dtype([(\"quint16\", np.uint16, 1)])\n",
            "/usr/local/lib/python3.6/dist-packages/tensorflow/python/framework/dtypes.py:473: FutureWarning: Passing (type, 1) or '1type' as a synonym of type is deprecated; in a future version of numpy, it will be understood as (type, (1,)) / '(1,)type'.\n",
            "  _np_qint32 = np.dtype([(\"qint32\", np.int32, 1)])\n",
            "/usr/local/lib/python3.6/dist-packages/tensorflow/python/framework/dtypes.py:476: FutureWarning: Passing (type, 1) or '1type' as a synonym of type is deprecated; in a future version of numpy, it will be understood as (type, (1,)) / '(1,)type'.\n",
            "  np_resource = np.dtype([(\"resource\", np.ubyte, 1)])\n",
            "/usr/lib/python3.6/importlib/_bootstrap.py:219: RuntimeWarning: compiletime version 3.5 of module 'tensorflow.python.framework.fast_tensor_util' does not match runtime version 3.6\n",
            "  return f(*args, **kwds)\n"
          ],
          "name": "stderr"
        }
      ]
    },
    {
      "cell_type": "markdown",
      "metadata": {
        "id": "txHAlcKfQD9F"
      },
      "source": [
        "# **기존 모델 학습의 한계**\n",
        "\n",
        "규모가 매우 큰 DNN 모델을 학습 시킬 때 처음부터 새로 학습 시키는 것은 학습 속도가 느린 문제가 있다. \n",
        "\n",
        "이러한 경우 기존에 학습된 비슷한 DNN모델이 있을 때 이 모델의 하위층(lower layer)을 가져와 \n",
        "재사용하는 것이 학습 속도를 빠르고\n",
        "학습에 필요한 Training set도 훨씬 적다.\n",
        "\n",
        "예를 들어, 아래의 그림처럼 CIFAR10 데이터셋을 분류(비행기, 자동차, 새, 고양이, 사슴, 개, 개구리, 말, 배, 트럭의 10개 클래스)하는 모델 A가 이 있다고 하자. \n",
        "그런 다음, 분류된 CIFAR10 이미지에서 자동차의 종류를 분류하는 모델인 B를 학습시킨다고 할 때, 학습된 모델 A에서의 일부분(lower layer)을 재사용하여 \n",
        "모델 B를 학습 시킬 수 있다. 이러한 방법을 Transfer Learning이라고 한다.\n",
        "\n",
        "이러한 Transfer Learning을 텐서플로를 이용해서 어떻게 학습시킬 수 있는지에 대해 알아보도록 하자.\n",
        "\n",
        "![image.png](data:image/png;base64,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)"
      ]
    },
    {
      "cell_type": "markdown",
      "metadata": {
        "id": "f0JCyIlgVYVs"
      },
      "source": [
        "### **학습된 모델 저장하기**\n",
        "\n",
        "아래의 예제 코드는, 5개의 hidden layer로 구성된 MNIST 데이터셋을 분류하는 모델이다.\n",
        "\n",
        "tf.train.Saver를 이용해 학습된 모델을 'my_model.ckpt'에 저장하는 코드이다."
      ]
    },
    {
      "cell_type": "code",
      "metadata": {
        "id": "jdjQ4Wg3QMUc"
      },
      "source": [
        "import os\n",
        "import numpy as np\n",
        "import tensorflow as tf\n",
        "\n",
        "# MNIST Load\n",
        "(train_x, train_y), (test_x, test_y) = tf.keras.datasets.mnist.load_data()\n",
        "\n",
        "# Train & TestSet reshape\n",
        "train_x = train_x.astype(np.float32).reshape(-1, 28*28) / 255.\n",
        "train_y = train_y.astype(np.int32)\n",
        "test_x = test_x.astype(np.float32).reshape(-1, 28*28) / 255.\n",
        "test_y = test_y.astype(np.int32)\n",
        "\n",
        "# Split Validation set from Train set\n",
        "valid_x, train_x = train_x[:5000], train_x[5000:]\n",
        "valid_y, train_y = train_y[:5000], train_y[5000:]"
      ],
      "execution_count": null,
      "outputs": []
    },
    {
      "cell_type": "code",
      "metadata": {
        "id": "ZCJzU7bpQ7oI"
      },
      "source": [
        "def shuffle_batch(inputs, labels, batch_size):\n",
        "    rnd_idx = np.random.permutation(len(inputs))\n",
        "    n_batches = len(inputs) // batch_size\n",
        "    for batch_idx in np.array_split(rnd_idx, n_batches):\n",
        "        batch_x, batch_y = inputs[batch_idx], labels[batch_idx]\n",
        "        yield batch_x, batch_y"
      ],
      "execution_count": null,
      "outputs": []
    },
    {
      "cell_type": "code",
      "metadata": {
        "id": "2vgY9hvrQ9EQ",
        "outputId": "c6fdad1b-8a88-4b7b-de03-1559926929f5",
        "colab": {
          "base_uri": "https://localhost:8080/",
          "height": 107
        }
      },
      "source": [
        "reset_graph()\n",
        "\n",
        "################\n",
        "# layer params #\n",
        "################\n",
        "n_inputs = 28*28\n",
        "n_hidden1 = 300\n",
        "n_hidden2 = 50\n",
        "n_hidden3 = 50\n",
        "n_hidden4 = 50\n",
        "n_hidden5 = 50\n",
        "n_outputs = 10\n",
        "\n",
        "# input layer\n",
        "inputs = tf.placeholder(tf.float32, shape=[None, n_inputs], name=\"inputs\")\n",
        "# output layer\n",
        "labels = tf.placeholder(tf.int32, shape=[None], name='labels')\n",
        "\n",
        "with tf.name_scope('dnn'):\n",
        "    hidden1 = tf.layers.dense(inputs, n_hidden1, activation=tf.nn.relu, name=\"hidden1\")\n",
        "    hidden2 = tf.layers.dense(hidden1, n_hidden2, activation=tf.nn.relu, name='hidden2')\n",
        "    hidden3 = tf.layers.dense(hidden2, n_hidden3, activation=tf.nn.relu, name='hidden3')\n",
        "    hidden4 = tf.layers.dense(hidden3, n_hidden4, activation=tf.nn.relu, name='hidden4')\n",
        "    hidden5 = tf.layers.dense(hidden4, n_hidden5, activation=tf.nn.relu, name='hidden5')\n",
        "    logits = tf.layers.dense(hidden5, n_outputs, name='logits')\n",
        "    \n",
        "with tf.name_scope('loss'):\n",
        "    cross_entropy = tf.reduce_mean(\n",
        "        tf.nn.sparse_softmax_cross_entropy_with_logits(labels=labels, logits=logits))\n",
        "    \n",
        "################\n",
        "# Hyper-params #\n",
        "################\n",
        "learning_rate = 0.01\n",
        "n_epochs = 5\n",
        "batch_size = 50\n",
        "\n",
        "with tf.name_scope('train'):\n",
        "    train_op = tf.train.GradientDescentOptimizer(learning_rate).minimize(cross_entropy)\n",
        "    \n",
        "with tf.name_scope('eval'):\n",
        "    correct = tf.nn.in_top_k(logits, labels, 1)\n",
        "    accuracy = tf.reduce_mean(tf.cast(correct, tf.float32))\n",
        "    \n",
        "# Saver 정의\n",
        "MODEL_PATH = './model/'\n",
        "saver = tf.train.Saver()\n",
        "\n",
        "# 모델을 쉽게 재사용 할 수 있도록 \n",
        "# 텐서플로 컬렉션(collection)에 저장\n",
        "train_vars = {'inputs': inputs, 'labels': labels,\n",
        "              'hidden1': hidden1, 'hidden2': hidden2,\n",
        "              'hidden3': hidden3, 'hidden4': hidden4,\n",
        "              'hidden5': hidden5, 'logits': logits}\n",
        "\n",
        "for key, var in train_vars.items():\n",
        "    tf.add_to_collection(key, var)\n",
        "\n",
        "# Train\n",
        "with tf.Session() as sess:\n",
        "    tf.global_variables_initializer().run()\n",
        "    \n",
        "    for epoch in range(n_epochs):\n",
        "        for batch_x, batch_y in shuffle_batch(train_x, train_y, batch_size):\n",
        "            sess.run(train_op, feed_dict={inputs: batch_x, \n",
        "                                          labels: batch_y})\n",
        "            \n",
        "        # validation\n",
        "        accuracy_val = accuracy.eval(feed_dict={inputs: valid_x, labels: valid_y})\n",
        "        print('epoch: {:02d}, valid. Acc: {:.4f}'.format(epoch, accuracy_val))\n",
        "    \n",
        "    # model save\n",
        "    save_path = saver.save(sess, os.path.join(MODEL_PATH, 'my_model.ckpt'))"
      ],
      "execution_count": null,
      "outputs": [
        {
          "output_type": "stream",
          "text": [
            "epoch: 00, valid. Acc: 0.8768\n",
            "epoch: 01, valid. Acc: 0.9278\n",
            "epoch: 02, valid. Acc: 0.9466\n",
            "epoch: 03, valid. Acc: 0.9544\n",
            "epoch: 04, valid. Acc: 0.9578\n"
          ],
          "name": "stdout"
        }
      ]
    },
    {
      "cell_type": "markdown",
      "metadata": {
        "id": "dKOxlPXMSgiw"
      },
      "source": [
        "# **2.학습된 모델을 이용해 4번째 레이어만 수정하기**\n",
        "\n",
        "이제 '1.1-학습된 모델 저장하기' 에서 저장한 'my_model.ckpt'을 이용해, 4번째 hidden layer의 노드 수를 20개로 수정한 뒤 새로운 모델을 학습시키는 코드이다. 아래의 코드는 위의 코드에서 tf.add_to_collection에 저장한 inputs, labels, hidden3를 불러온 뒤, new_hidden4, new_logits을 추가한 새로운 모델을 학습하여 my_new_model.ckpt에 저장하는 코드이다."
      ]
    },
    {
      "cell_type": "code",
      "metadata": {
        "id": "0MIc4hpBSjto",
        "outputId": "adf5bfdd-73c1-4cf3-80db-43926eaf2250",
        "colab": {
          "base_uri": "https://localhost:8080/",
          "height": 125
        }
      },
      "source": [
        "reset_graph()\n",
        "\n",
        "#################\n",
        "# layers params #\n",
        "#################\n",
        "n_hidden4 = 20  # new hidden # 4번째 hidden layer의 노두 수를 20개로 수정\n",
        "n_outputs = 10  # new output\n",
        "\n",
        "MODEL_PATH = './model/'\n",
        "saver = tf.train.import_meta_graph(os.path.join(MODEL_PATH, 'my_model.ckpt.meta'))\n",
        "\n",
        "inputs = tf.get_default_graph().get_collection('inputs')[0]\n",
        "labels = tf.get_default_graph().get_collection('labels')[0]\n",
        "\n",
        "hidden3 = tf.get_default_graph().get_collection('hidden3')[0]\n",
        "\n",
        "new_hidden4 = tf.layers.dense(hidden3, n_hidden4, activation=tf.nn.relu, name='new_hidden4')\n",
        "new_logits = tf.layers.dense(new_hidden4, n_outputs, name='new_logits')\n",
        "\n",
        "with tf.name_scope('new_loss'):\n",
        "    cross_entropy = tf.reduce_mean(\n",
        "        tf.nn.sparse_softmax_cross_entropy_with_logits(labels=labels, logits=new_logits))\n",
        "    \n",
        "################\n",
        "# Hyper-params #\n",
        "################\n",
        "learning_rate = 0.001\n",
        "n_epochs = 5\n",
        "batch_size = 50\n",
        "\n",
        "with tf.name_scope('new_train'):\n",
        "    train_op = tf.train.AdamOptimizer(learning_rate).minimize(cross_entropy)\n",
        "    \n",
        "with tf.name_scope('new_eval'):\n",
        "    correct = tf.nn.in_top_k(new_logits, labels, 1)\n",
        "    accuracy = tf.reduce_mean(tf.cast(correct, tf.float32))\n",
        "\n",
        "# New Saver\n",
        "new_saver = tf.train.Saver()\n",
        "    \n",
        "# Train the New Model\n",
        "with tf.Session() as sess:\n",
        "    tf.global_variables_initializer().run()\n",
        "    saver.restore(sess, os.path.join(MODEL_PATH, 'my_model.ckpt'))\n",
        "    \n",
        "    for epoch in range(n_epochs):\n",
        "        for batch_x, batch_y in shuffle_batch(train_x, train_y, batch_size):\n",
        "            sess.run(train_op, feed_dict={inputs: batch_x, \n",
        "                                          labels: batch_y})\n",
        "            \n",
        "        # validation\n",
        "        accuracy_val = accuracy.eval(feed_dict={inputs: valid_x, labels: valid_y})\n",
        "        print('epoch: {:02d}, valid. Acc: {:.4f}'.format(epoch, accuracy_val))\n",
        "    \n",
        "    # save the new model\n",
        "    save_path = new_saver.save(sess, os.path.join(MODEL_PATH, 'my_new_model.ckpt'))"
      ],
      "execution_count": null,
      "outputs": [
        {
          "output_type": "stream",
          "text": [
            "INFO:tensorflow:Restoring parameters from ./model/my_model.ckpt\n",
            "epoch: 00, valid. Acc: 0.9658\n",
            "epoch: 01, valid. Acc: 0.9702\n",
            "epoch: 02, valid. Acc: 0.9672\n",
            "epoch: 03, valid. Acc: 0.9762\n",
            "epoch: 04, valid. Acc: 0.9762\n"
          ],
          "name": "stdout"
        }
      ]
    },
    {
      "cell_type": "markdown",
      "metadata": {
        "id": "8L9E70B6S_gp"
      },
      "source": [
        "# **3.텐서플로를 이용한 Transfer Learning**\n",
        "\n",
        "이번에는 텐서플로를 이용해 \n",
        "* 'Transfer Learning이란'에서 살펴본 Transfer Learning을 구현해보도록 하자.\n",
        "* '학습된 모델 저장하기'의 예제코드를 통해 저장한 'my_model.ckpt'에서 hidden1, hidden2 레이어는 Freezing(동결)한 뒤 재사용 하고, hidden3레이어는 Freezing하지 않고 재사용(즉, 학습시킨 다는 의미)한다. 그리고 마지막으로 hidden4, logits를 새로 만들어 transfer learning을 수행해보자."
      ]
    },
    {
      "cell_type": "markdown",
      "metadata": {
        "id": "wkJoIsxuXSCG"
      },
      "source": [
        "## 3.1 재사용할 레이어 동결(freezing)하는 방법 (1)\n",
        "\n",
        "우선, 학습시킬 레이어(hidden3, hidden4, logits)와 동결(학습시키지 않을)할 레이어(hidden1, hidden2)를 텐서플로의 tf.get_collection()을 이용하여 다음과 같이 설정해줘야 한다.\n",
        "\n",
        "학습시킬 레이어(hidden3, hidden4, logits) : tf.get_collection()의 sope인자에 정규표현식으로 학습시킬 레이어를 아래의 코드처럼 'hidden[34]|logits'라고 지정하면 텐서의 name이 매칭되는 레이어를 찾는다. 그런 다음 optimizer.minimize()의 var_list인자에 넣어주면 된다.\n",
        "\n",
        "# 학습시킬 레이어 설정 예시\n",
        "* optimizer = tf.train.GradientDescentOptimizer(learning_rate)\n",
        "* train_vars = tf.get_collection(tf.GraphKeys.TRAINABLE_VARIABLES, scope='hidden[34]|logits')  # 정규표현식\n",
        "* train_op = optimizer.minimize(loss, var_list=train_vars)\n",
        "\n",
        "재사용할 레이어(hidden1~3) : 마찬가지로, tf.get_collection()의 scope인자에 정규표현식으로 'hidden[123]'을 넣어준 뒤 tf.train.Saver()에 넣어준다.\n",
        "\n",
        "# 재 사용할 레이어 불러오는 예시\n",
        "* reuse_vars = tf.get_collection(tf.GraphKeys.GLOBAL_VARIABLES,scope='hidden[123]') # 정규표현식\n",
        "* restore_saver = tf.train.Saver(reuse_vars)\n",
        "* with tf.Session() as sess: restore_saver.restore(sess, './model/my_model.ckpt')\n",
        "# 새 섹션\n",
        "이제, 위에서 살펴본 내용을 토대로 재사용할 하위층(low layer)을 동결시킨 후 새로운 레이어를 추가한 새로운 모델을 학습시켜 보자."
      ]
    },
    {
      "cell_type": "code",
      "metadata": {
        "id": "EI34NOAtTe1S",
        "outputId": "1505e3d5-ab97-41f0-fadd-6335a0e13143",
        "colab": {
          "base_uri": "https://localhost:8080/",
          "height": 125
        }
      },
      "source": [
        "reset_graph()\n",
        "\n",
        "n_inputs = 28 * 28  # MNIST\n",
        "n_hidden1 = 300  # Reusing\n",
        "n_hidden2 = 50  # Reusing\n",
        "n_hidden3 = 50  # Reusing\n",
        "n_hidden4 = 20  # New\n",
        "n_outputs = 10  # New\n",
        "\n",
        "inputs = tf.placeholder(tf.float32, shape=[None, n_inputs], name='inputs')\n",
        "labels = tf.placeholder(tf.int32, shape=[None], name='labels')\n",
        "\n",
        "with tf.name_scope('dnn'):\n",
        "    hidden1 = tf.layers.dense(inputs, n_hidden1, \n",
        "                              activation=tf.nn.relu, name='hidden1')  # Reusing\n",
        "    hidden2 = tf.layers.dense(hidden1, n_hidden2, \n",
        "                              activation=tf.nn.relu, name='hidden2')  # Reusing   \n",
        "    hidden3 = tf.layers.dense(hidden2, n_hidden3, \n",
        "                              activation=tf.nn.relu, name='hidden3')  # Reusing   \n",
        "    hidden4 = tf.layers.dense(hidden3, n_hidden4, \n",
        "                              activation=tf.nn.relu, name='hidden4')  # New  \n",
        "    logits = tf.layers.dense(hidden4, n_outputs, name='logits')  # new\n",
        "    \n",
        "with tf.name_scope('loss'):\n",
        "    cross_entropy = tf.reduce_mean(\n",
        "        tf.nn.sparse_softmax_cross_entropy_with_logits(labels=labels, logits=logits))\n",
        "    \n",
        "################\n",
        "# Hyper-params #\n",
        "################\n",
        "learning_rate = 0.01\n",
        "n_epochs = 5\n",
        "batch_size = 50\n",
        "\n",
        "with tf.name_scope('train'):\n",
        "    optimizer = tf.train.GradientDescentOptimizer(learning_rate)\n",
        "    train_vars = tf.get_collection(tf.GraphKeys.TRAINABLE_VARIABLES,\n",
        "                                   scope='hidden[34]|logits') # 학습시킬 Layer 불러오기\n",
        "    train_op = optimizer.minimize(cross_entropy, var_list=train_vars)\n",
        "    \n",
        "with tf.name_scope('eval'):\n",
        "    correct = tf.nn.in_top_k(logits, labels, 1)\n",
        "    accuracy = tf.reduce_mean(tf.cast(correct, tf.float32))\n",
        "    \n",
        "# New Saver 정의\n",
        "MODEL_PATH = './model/'\n",
        "new_saver = tf.train.Saver()\n",
        "\n",
        "# Reusing layer load\n",
        "reuse_vars = tf.get_collection(tf.GraphKeys.GLOBAL_VARIABLES,\n",
        "                               scope='hidden[123]') # 재사용 할 Layer 불러오기\n",
        "restore_saver = tf.train.Saver(reuse_vars)\n",
        "\n",
        "# Train the New Model\n",
        "with tf.Session() as sess:\n",
        "    tf.global_variables_initializer().run()\n",
        "    restore_saver.restore(sess, os.path.join(MODEL_PATH, 'my_model.ckpt'))\n",
        "    \n",
        "    for epoch in range(n_epochs):\n",
        "        for batch_x, batch_y in shuffle_batch(train_x, train_y, batch_size):\n",
        "            sess.run(train_op, feed_dict={inputs: batch_x, \n",
        "                                          labels: batch_y})\n",
        "            \n",
        "        # validation\n",
        "        accuracy_val = accuracy.eval(feed_dict={inputs: valid_x, labels: valid_y})\n",
        "        print('epoch: {:02d}, valid. Acc: {:.4f}'.format(epoch, accuracy_val))\n",
        "    \n",
        "    # save the new model\n",
        "    save_path = new_saver.save(sess, os.path.join(MODEL_PATH, 'my_transfer_model.ckpt'))"
      ],
      "execution_count": null,
      "outputs": [
        {
          "output_type": "stream",
          "text": [
            "INFO:tensorflow:Restoring parameters from ./model/my_model.ckpt\n",
            "epoch: 00, valid. Acc: 0.9480\n",
            "epoch: 01, valid. Acc: 0.9520\n",
            "epoch: 02, valid. Acc: 0.9580\n",
            "epoch: 03, valid. Acc: 0.9576\n",
            "epoch: 04, valid. Acc: 0.9584\n"
          ],
          "name": "stdout"
        }
      ]
    },
    {
      "cell_type": "markdown",
      "metadata": {
        "id": "oOu8j9IqUTsV"
      },
      "source": [
        "## 3.2 재사용할 레이어 동결(freezing)하는 방법\n",
        "위에서 처럼 optimizer.minimize()의 var_list의 인자로 학습 시킬 레이어를 지정해주는 방법 말고 tf.stop_gradient()를 사용해 Transfer Learning을 수행할 수 있다. \n",
        "\n",
        "아래의 예시 코드처럼 동결(freezing)시킬 마지막 레이어(여기서는 hidden2) 바로뒤에 tf.stop_gradient()를 넣어주면 된다.\n",
        "\n",
        "# tf.stop_gradient()를 사용한 Transfer Learning\n",
        "* hidden2 = tf.layers.dense(hidden1, ...)\n",
        "* hidden2_stop = tf.stop_gradient(hidden2)\n",
        "* hidden3 = tf.layers.dense(hidden2_stop, ...)\n",
        "# ...\n",
        "아래의 코드는 위의 예제코드를 tf.stop_gradient()를 사용해 작성한 코드이다."
      ]
    },
    {
      "cell_type": "code",
      "metadata": {
        "id": "Nh0vxT19UiXv",
        "outputId": "dca09494-0e26-4f61-e8b5-dc8bb1152a04",
        "colab": {
          "base_uri": "https://localhost:8080/",
          "height": 125
        }
      },
      "source": [
        "reset_graph()\n",
        "\n",
        "n_inputs = 28 * 28  # MNIST\n",
        "n_hidden1 = 300  # Reusing\n",
        "n_hidden2 = 50  # Reusing\n",
        "n_hidden3 = 50  # Reusing\n",
        "n_hidden4 = 20  # New\n",
        "n_outputs = 10  # New\n",
        "\n",
        "inputs = tf.placeholder(tf.float32, shape=[None, n_inputs], name='inputs')\n",
        "labels = tf.placeholder(tf.int32, shape=[None], name='labels')\n",
        "\n",
        "with tf.name_scope('dnn'):\n",
        "    hidden1 = tf.layers.dense(inputs, n_hidden1, \n",
        "                              activation=tf.nn.relu, name='hidden1')  # Reusing\n",
        "    hidden2 = tf.layers.dense(hidden1, n_hidden2, \n",
        "                              activation=tf.nn.relu, name='hidden2')  # Reusing\n",
        "    hidden2_stop = tf.stop_gradient(hidden2)  # freezing # 재사용할 Layer 동결하기\n",
        "    hidden3 = tf.layers.dense(hidden2_stop, n_hidden3, \n",
        "                              activation=tf.nn.relu, name='hidden3')  # Reusing   \n",
        "    hidden4 = tf.layers.dense(hidden3, n_hidden4, \n",
        "                              activation=tf.nn.relu, name='hidden4')  # New  \n",
        "    logits = tf.layers.dense(hidden4, n_outputs, name='logits')  # new\n",
        "    \n",
        "with tf.name_scope('loss'):\n",
        "    cross_entropy = tf.reduce_mean(\n",
        "        tf.nn.sparse_softmax_cross_entropy_with_logits(labels=labels, logits=logits))\n",
        "    \n",
        "################\n",
        "# Hyper-params #\n",
        "################\n",
        "learning_rate = 0.01\n",
        "n_epochs = 5\n",
        "batch_size = 50\n",
        "\n",
        "with tf.name_scope('train'):\n",
        "    train_op = tf.train.GradientDescentOptimizer(learning_rate).minimize(cross_entropy)\n",
        "    \n",
        "with tf.name_scope('eval'):\n",
        "    correct = tf.nn.in_top_k(logits, labels, 1)\n",
        "    accuracy = tf.reduce_mean(tf.cast(correct, tf.float32))\n",
        "    \n",
        "# New Saver 정의\n",
        "MODEL_PATH = './model/'\n",
        "new_saver = tf.train.Saver()\n",
        "\n",
        "# Reusing layer load\n",
        "reuse_vars = tf.get_collection(tf.GraphKeys.GLOBAL_VARIABLES,\n",
        "                               scope='hidden[123]')\n",
        "restore_saver = tf.train.Saver(reuse_vars)\n",
        "\n",
        "# Train the New Model\n",
        "with tf.Session() as sess:\n",
        "    tf.global_variables_initializer().run()\n",
        "    restore_saver.restore(sess, os.path.join(MODEL_PATH, 'my_model.ckpt'))\n",
        "    \n",
        "    for epoch in range(n_epochs):\n",
        "        for batch_x, batch_y in shuffle_batch(train_x, train_y, batch_size):\n",
        "            sess.run(train_op, feed_dict={inputs: batch_x, \n",
        "                                          labels: batch_y})\n",
        "            \n",
        "        # validation\n",
        "        accuracy_val = accuracy.eval(feed_dict={inputs: valid_x, labels: valid_y})\n",
        "        print('epoch: {:02d}, valid. Acc: {:.4f}'.format(epoch, accuracy_val))\n",
        "    \n",
        "    # save the new model\n",
        "    save_path = new_saver.save(sess, os.path.join(MODEL_PATH, 'my_transfer_model2.ckpt'))"
      ],
      "execution_count": null,
      "outputs": [
        {
          "output_type": "stream",
          "text": [
            "INFO:tensorflow:Restoring parameters from ./model/my_model.ckpt\n",
            "epoch: 00, valid. Acc: 0.9494\n",
            "epoch: 01, valid. Acc: 0.9540\n",
            "epoch: 02, valid. Acc: 0.9550\n",
            "epoch: 03, valid. Acc: 0.9562\n",
            "epoch: 04, valid. Acc: 0.9574\n"
          ],
          "name": "stdout"
        }
      ]
    },
    {
      "cell_type": "markdown",
      "metadata": {
        "id": "oxlnfT3OUrxt"
      },
      "source": [
        "## 3.3 동결시킨 층 캐싱하기\n",
        "위에서 hidden1, hidden2레이어를 재사용함과 동시에 동결(freezing) 시켰는데, 이러한 동결된 레이어는 변하지 않으므로 가장 마지막 동결된 레이어(hidden2)에서 나온 출력을 다음과 캐싱(caching) 할 수 있다.\n",
        "\n",
        "전체 Training Set으로 마지막 동결된 레이어 hidden2의 출력을 실행한다. →(충분한 메모리가 있다는 가정하에)\n",
        "학습하는 동안 Training Set에 대한 미니배치가 아닌 1에서 출력한 hidden2레이어의 출력에 대해 미니배치를 만든 다음 레이어에 넣어준다."
      ]
    },
    {
      "cell_type": "code",
      "metadata": {
        "id": "elFTM0KDU0_w",
        "outputId": "6f4a1f7f-2565-443e-dfd7-bb7d243aa0d3",
        "colab": {
          "base_uri": "https://localhost:8080/",
          "height": 125
        }
      },
      "source": [
        "reset_graph()\n",
        "\n",
        "n_inputs = 28 * 28  # MNIST\n",
        "n_hidden1 = 300  # Reusing\n",
        "n_hidden2 = 50  # Reusing\n",
        "n_hidden3 = 50  # Reusing\n",
        "n_hidden4 = 20  # New\n",
        "n_outputs = 10  # New\n",
        "\n",
        "inputs = tf.placeholder(tf.float32, shape=[None, n_inputs], name='inputs')\n",
        "labels = tf.placeholder(tf.int32, shape=[None], name='labels')\n",
        "\n",
        "with tf.name_scope('dnn'):\n",
        "    hidden1 = tf.layers.dense(inputs, n_hidden1, \n",
        "                              activation=tf.nn.relu, name='hidden1')  # Reusing\n",
        "    hidden2 = tf.layers.dense(hidden1, n_hidden2, \n",
        "                              activation=tf.nn.relu, name='hidden2')  # Reusing\n",
        "    hidden2_stop = tf.stop_gradient(hidden2)  # freezing\n",
        "    hidden3 = tf.layers.dense(hidden2_stop, n_hidden3, \n",
        "                              activation=tf.nn.relu, name='hidden3')  # Reusing   \n",
        "    hidden4 = tf.layers.dense(hidden3, n_hidden4, \n",
        "                              activation=tf.nn.relu, name='hidden4')  # New  \n",
        "    logits = tf.layers.dense(hidden4, n_outputs, name='logits')  # new\n",
        "    \n",
        "with tf.name_scope('loss'):\n",
        "    cross_entropy = tf.reduce_mean(\n",
        "        tf.nn.sparse_softmax_cross_entropy_with_logits(labels=labels, logits=logits))\n",
        "    \n",
        "################\n",
        "# Hyper-params #\n",
        "################\n",
        "learning_rate = 0.01\n",
        "n_epochs = 5\n",
        "batch_size = 50\n",
        "\n",
        "with tf.name_scope('train'):\n",
        "    train_op = tf.train.GradientDescentOptimizer(learning_rate).minimize(cross_entropy)\n",
        "    \n",
        "with tf.name_scope('eval'):\n",
        "    correct = tf.nn.in_top_k(logits, labels, 1)\n",
        "    accuracy = tf.reduce_mean(tf.cast(correct, tf.float32))\n",
        "    \n",
        "# New Saver 정의\n",
        "MODEL_PATH = './model/'\n",
        "new_saver = tf.train.Saver()\n",
        "\n",
        "# Reusing layer load\n",
        "reuse_vars = tf.get_collection(tf.GraphKeys.GLOBAL_VARIABLES,\n",
        "                               scope='hidden[123]')\n",
        "restore_saver = tf.train.Saver(reuse_vars)\n",
        "\n",
        "# Train\n",
        "n_batches = len(train_x) // batch_size\n",
        "\n",
        "with tf.Session() as sess:\n",
        "    tf.global_variables_initializer().run()\n",
        "    restore_saver.restore(sess, os.path.join(MODEL_PATH, 'my_model.ckpt'))\n",
        "    \n",
        "    # Caching\n",
        "    h2_cache = sess.run(hidden2, feed_dict={inputs: train_x})\n",
        "    h2_cache_valid = sess.run(hidden2, feed_dict={inputs: valid_x})\n",
        "    \n",
        "    for epoch in range(n_epochs):\n",
        "        # mini-batch for hidden2\n",
        "        shuffle_idx = np.random.permutation(len(train_x))\n",
        "        hidden2_batches = np.array_split(h2_cache[shuffle_idx], n_batches)\n",
        "        label_batches = np.array_split(train_y[shuffle_idx], n_batches)\n",
        "        for hidden2_batch, label_batch in zip(hidden2_batches, label_batches):\n",
        "            sess.run(train_op, feed_dict={hidden2: hidden2_batch, \n",
        "                                          labels: label_batch})\n",
        "            \n",
        "        accuracy_val = accuracy.eval(feed_dict={hidden2: h2_cache_valid,\n",
        "                                                labels: valid_y})\n",
        "        print('epoch: {:02d}, valid. Acc: {:.4f}'.format(epoch, accuracy_val))\n",
        "    \n",
        "    # save the new model\n",
        "    save_path = new_saver.save(sess, os.path.join(MODEL_PATH, 'my_caching_model.ckpt'))"
      ],
      "execution_count": null,
      "outputs": [
        {
          "output_type": "stream",
          "text": [
            "INFO:tensorflow:Restoring parameters from ./model/my_model.ckpt\n",
            "epoch: 00, valid. Acc: 0.9494\n",
            "epoch: 01, valid. Acc: 0.9540\n",
            "epoch: 02, valid. Acc: 0.9550\n",
            "epoch: 03, valid. Acc: 0.9562\n",
            "epoch: 04, valid. Acc: 0.9574\n"
          ],
          "name": "stdout"
        }
      ]
    }
  ]
}